{
 "cells": [
  {
   "cell_type": "markdown",
   "metadata": {},
   "source": [
    "# Engagement outcomes\n",
    "\n",
    "For the primary and some secondary outcomes, we need to use Google Analytics page views data:\n",
    "\n",
    "## E1: Number of page views over one month on CCG page showing low-priority measures\n",
    "\n",
    "Timepoints:\n",
    "- 1 month before/after\n",
    "- April-Sept 2018 vs April-Sept 2019\n",
    "\n",
    "**Analytics data extraction procedure:**\n",
    "\n",
    "`Analytics - Behaviour - Site Content - All Pages`\n",
    "\n",
    " ```\n",
    "ADVANCED SEARCH: Page matching regexp \"/ccg\"  AND  Matching regexp \"lowp\" AND Exclude page including \"analyse\"\n",
    " SECONDARY DIMENSION: \"DATE\"\n",
    " DATE RANGE: Sept 2018 - Jan 2019 (visits take place Oct-Dec 2018); also April-Sept 2018 and April-Sept 2019\n",
    " SHOW ROWS: 5000\n",
    " ```\n",
    " Export as CSV\n",
    " Before importing, tidy up the csv to create a flat table\n",
    " (remove top and bottom groups of rows, convert numerical data to general format to remove commas)\n",
    "\n",
    "## E2: Number of page views over one month on practice pages showing low-priority measures, grouped up to CCGs\n",
    "\n",
    "Timepoints:\n",
    "- 1 month before/after\n",
    "- April-Sept 2018 vs April-Sept 2019\n",
    "\n",
    "\n",
    "**Analytics data extraction procedure:**\n",
    "`Analytics - Behaviour - Site Content - All Pages`\n",
    "\n",
    " ```\n",
    "ADVANCED SEARCH: Page matching regexp \"/practice\"  AND  Matching regexp \"lowp\" AND Exclude page including \"analyse\"\n",
    " SECONDARY DIMENSION: \"DATE\"\n",
    " DATE RANGE: Sept 2018 - Jan 2019 (visits take place Oct-Dec 2018); also April-Sept 2018 and April-Sept 2019\n",
    " SHOW ROWS: 5000\n",
    " ```\n",
    "\n",
    " Export as CSV\n",
    "\n",
    " Before importing, tidy up the csv to create a flat table\n",
    " (remove top and bottom groups of rows, convert numerical data to general format to remove commas)\n"
   ]
  },
  {
   "cell_type": "code",
   "execution_count": 63,
   "metadata": {},
   "outputs": [],
   "source": [
    "# Import page views data\n",
    "import pandas as pd\n",
    "import numpy as np\n",
    "import analytics\n",
    "# CCG-level data:\n",
    "\n",
    "VIEW_ID = '101677264'\n",
    "# DATE RANGE: Sept 2018 - Jan 2019 (visits take place Oct-Dec 2018); also April-Sept 2018 and April-Sept 2019\n",
    "ccg_query = [\n",
    "    {\n",
    "        'viewId': VIEW_ID,\n",
    "        \"samplingLevel\": \"LARGE\",\n",
    "        'dateRanges': [\n",
    "            {'startDate': '2018-04-01',\n",
    "             'endDate': '2019-09-30'}\n",
    "        ],\n",
    "        'metrics': [\n",
    "            {'expression': 'ga:pageViews'},\n",
    "            {'expression': 'ga:uniquePageViews'},\n",
    "        ],\n",
    "        \"dimensions\": [\n",
    "            {\"name\": \"ga:pagePath\"},\n",
    "            {\"name\": \"ga:date\"},\n",
    "        ],\n",
    "        \"dimensionFilterClauses\": [{\n",
    "            \"operator\": \"AND\",\n",
    "            \"filters\": [\n",
    "                {\n",
    "                    \"dimensionName\": \"ga:pagePath\",\n",
    "                    \"operator\": \"REGEXP\",\n",
    "                    \"expressions\": [\"^/ccg.*lowp\"]\n",
    "                },\n",
    "                {\n",
    "                    \"dimensionName\": \"ga:pagePath\",\n",
    "                    \"not\": True,\n",
    "                    \"operator\": \"PARTIAL\",\n",
    "                    \"expressions\": [\"analyse\"]\n",
    "                }\n",
    "            ]\n",
    "        }]\n",
    "    }]\n",
    "from importlib import reload\n",
    "reload(analytics)\n",
    "colnames = [\"date\",\"Page\",\"Pageviews\",\"Unique Pageviews\"]\n",
    "df1 = analytics.query_analytics(ccg_query, columns=colnames)\n",
    "\n",
    "# ...and the same query at practice level\n",
    "practice_query = ccg_query.copy()\n",
    "practice_query[0][\"dimensionFilterClauses\"][0][\"filters\"][0][\"expressions\"] = [\"^/practice.*lowp\"]\n",
    "dfp = analytics.query_analytics(practice_query, columns=colnames)"
   ]
  },
  {
   "cell_type": "code",
   "execution_count": 64,
   "metadata": {},
   "outputs": [
    {
     "data": {
      "text/html": [
       "<div>\n",
       "<style scoped>\n",
       "    .dataframe tbody tr th:only-of-type {\n",
       "        vertical-align: middle;\n",
       "    }\n",
       "\n",
       "    .dataframe tbody tr th {\n",
       "        vertical-align: top;\n",
       "    }\n",
       "\n",
       "    .dataframe thead th {\n",
       "        text-align: right;\n",
       "    }\n",
       "</style>\n",
       "<table border=\"1\" class=\"dataframe\">\n",
       "  <thead>\n",
       "    <tr style=\"text-align: right;\">\n",
       "      <th></th>\n",
       "      <th>date</th>\n",
       "      <th>Page</th>\n",
       "      <th>Pageviews</th>\n",
       "      <th>Unique Pageviews</th>\n",
       "    </tr>\n",
       "  </thead>\n",
       "  <tbody>\n",
       "    <tr>\n",
       "      <th>0</th>\n",
       "      <td>2018-08-31</td>\n",
       "      <td>/ccg/00C/?tags=lowpriority</td>\n",
       "      <td>2</td>\n",
       "      <td>1</td>\n",
       "    </tr>\n",
       "    <tr>\n",
       "      <th>1</th>\n",
       "      <td>2018-08-31</td>\n",
       "      <td>/ccg/00C/?tags=lowpriority</td>\n",
       "      <td>2</td>\n",
       "      <td>1</td>\n",
       "    </tr>\n",
       "    <tr>\n",
       "      <th>2</th>\n",
       "      <td>2018-08-31</td>\n",
       "      <td>/ccg/00C/measures/?tags=lowpriority</td>\n",
       "      <td>1</td>\n",
       "      <td>1</td>\n",
       "    </tr>\n",
       "    <tr>\n",
       "      <th>3</th>\n",
       "      <td>2018-08-31</td>\n",
       "      <td>/ccg/00C/measures/?tags=lowpriority</td>\n",
       "      <td>1</td>\n",
       "      <td>1</td>\n",
       "    </tr>\n",
       "    <tr>\n",
       "      <th>4</th>\n",
       "      <td>2018-11-04</td>\n",
       "      <td>/ccg/00C/measures/?tags=lowpriority</td>\n",
       "      <td>1</td>\n",
       "      <td>1</td>\n",
       "    </tr>\n",
       "  </tbody>\n",
       "</table>\n",
       "</div>"
      ],
      "text/plain": [
       "        date                                 Page Pageviews Unique Pageviews\n",
       "0 2018-08-31           /ccg/00C/?tags=lowpriority         2                1\n",
       "1 2018-08-31           /ccg/00C/?tags=lowpriority         2                1\n",
       "2 2018-08-31  /ccg/00C/measures/?tags=lowpriority         1                1\n",
       "3 2018-08-31  /ccg/00C/measures/?tags=lowpriority         1                1\n",
       "4 2018-11-04  /ccg/00C/measures/?tags=lowpriority         1                1"
      ]
     },
     "execution_count": 64,
     "metadata": {},
     "output_type": "execute_result"
    }
   ],
   "source": [
    "df1.head()"
   ]
  },
  {
   "cell_type": "code",
   "execution_count": 65,
   "metadata": {},
   "outputs": [
    {
     "data": {
      "text/html": [
       "<div>\n",
       "<style scoped>\n",
       "    .dataframe tbody tr th:only-of-type {\n",
       "        vertical-align: middle;\n",
       "    }\n",
       "\n",
       "    .dataframe tbody tr th {\n",
       "        vertical-align: top;\n",
       "    }\n",
       "\n",
       "    .dataframe thead th {\n",
       "        text-align: right;\n",
       "    }\n",
       "</style>\n",
       "<table border=\"1\" class=\"dataframe\">\n",
       "  <thead>\n",
       "    <tr style=\"text-align: right;\">\n",
       "      <th></th>\n",
       "      <th>date</th>\n",
       "      <th>Page</th>\n",
       "      <th>Pageviews</th>\n",
       "      <th>Unique Pageviews</th>\n",
       "    </tr>\n",
       "  </thead>\n",
       "  <tbody>\n",
       "    <tr>\n",
       "      <th>0</th>\n",
       "      <td>2018-08-31</td>\n",
       "      <td>/ccg/00C/?tags=lowpriority</td>\n",
       "      <td>2</td>\n",
       "      <td>1</td>\n",
       "    </tr>\n",
       "    <tr>\n",
       "      <th>1</th>\n",
       "      <td>2018-08-31</td>\n",
       "      <td>/ccg/00C/?tags=lowpriority</td>\n",
       "      <td>2</td>\n",
       "      <td>1</td>\n",
       "    </tr>\n",
       "    <tr>\n",
       "      <th>6</th>\n",
       "      <td>2018-07-09</td>\n",
       "      <td>/ccg/00D/?tags=lowpriority</td>\n",
       "      <td>1</td>\n",
       "      <td>1</td>\n",
       "    </tr>\n",
       "    <tr>\n",
       "      <th>7</th>\n",
       "      <td>2018-07-09</td>\n",
       "      <td>/ccg/00D/?tags=lowpriority</td>\n",
       "      <td>1</td>\n",
       "      <td>1</td>\n",
       "    </tr>\n",
       "    <tr>\n",
       "      <th>12</th>\n",
       "      <td>2018-05-31</td>\n",
       "      <td>/ccg/00J/?tags=lowpriority</td>\n",
       "      <td>1</td>\n",
       "      <td>1</td>\n",
       "    </tr>\n",
       "  </tbody>\n",
       "</table>\n",
       "</div>"
      ],
      "text/plain": [
       "         date                        Page Pageviews Unique Pageviews\n",
       "0  2018-08-31  /ccg/00C/?tags=lowpriority         2                1\n",
       "1  2018-08-31  /ccg/00C/?tags=lowpriority         2                1\n",
       "6  2018-07-09  /ccg/00D/?tags=lowpriority         1                1\n",
       "7  2018-07-09  /ccg/00D/?tags=lowpriority         1                1\n",
       "12 2018-05-31  /ccg/00J/?tags=lowpriority         1                1"
      ]
     },
     "execution_count": 65,
     "metadata": {},
     "output_type": "execute_result"
    }
   ],
   "source": [
    "# XXX note that some page URLs changed during the baseline period\n",
    "df1[~df1['Page'].str.contains(\"measures\")].head()"
   ]
  },
  {
   "cell_type": "code",
   "execution_count": 66,
   "metadata": {},
   "outputs": [
    {
     "data": {
      "text/html": [
       "<div>\n",
       "<style scoped>\n",
       "    .dataframe tbody tr th:only-of-type {\n",
       "        vertical-align: middle;\n",
       "    }\n",
       "\n",
       "    .dataframe tbody tr th {\n",
       "        vertical-align: top;\n",
       "    }\n",
       "\n",
       "    .dataframe thead th {\n",
       "        text-align: right;\n",
       "    }\n",
       "</style>\n",
       "<table border=\"1\" class=\"dataframe\">\n",
       "  <thead>\n",
       "    <tr style=\"text-align: right;\">\n",
       "      <th></th>\n",
       "      <th>date</th>\n",
       "      <th>Page</th>\n",
       "      <th>Pageviews</th>\n",
       "      <th>Unique Pageviews</th>\n",
       "    </tr>\n",
       "  </thead>\n",
       "  <tbody>\n",
       "    <tr>\n",
       "      <th>0</th>\n",
       "      <td>2018-09-06</td>\n",
       "      <td>/practice/A81005/measures/?tags=lowpriority</td>\n",
       "      <td>1</td>\n",
       "      <td>1</td>\n",
       "    </tr>\n",
       "    <tr>\n",
       "      <th>1</th>\n",
       "      <td>2018-09-06</td>\n",
       "      <td>/practice/A81005/measures/?tags=lowpriority</td>\n",
       "      <td>1</td>\n",
       "      <td>1</td>\n",
       "    </tr>\n",
       "    <tr>\n",
       "      <th>2</th>\n",
       "      <td>2018-09-04</td>\n",
       "      <td>/practice/A81018/measures/?tags=lowpriority</td>\n",
       "      <td>1</td>\n",
       "      <td>1</td>\n",
       "    </tr>\n",
       "    <tr>\n",
       "      <th>3</th>\n",
       "      <td>2018-09-04</td>\n",
       "      <td>/practice/A81018/measures/?tags=lowpriority</td>\n",
       "      <td>1</td>\n",
       "      <td>1</td>\n",
       "    </tr>\n",
       "    <tr>\n",
       "      <th>4</th>\n",
       "      <td>2018-08-07</td>\n",
       "      <td>/practice/A81019/measures/?tags=lowpriority</td>\n",
       "      <td>1</td>\n",
       "      <td>1</td>\n",
       "    </tr>\n",
       "  </tbody>\n",
       "</table>\n",
       "</div>"
      ],
      "text/plain": [
       "        date                                         Page Pageviews  \\\n",
       "0 2018-09-06  /practice/A81005/measures/?tags=lowpriority         1   \n",
       "1 2018-09-06  /practice/A81005/measures/?tags=lowpriority         1   \n",
       "2 2018-09-04  /practice/A81018/measures/?tags=lowpriority         1   \n",
       "3 2018-09-04  /practice/A81018/measures/?tags=lowpriority         1   \n",
       "4 2018-08-07  /practice/A81019/measures/?tags=lowpriority         1   \n",
       "\n",
       "  Unique Pageviews  \n",
       "0                1  \n",
       "1                1  \n",
       "2                1  \n",
       "3                1  \n",
       "4                1  "
      ]
     },
     "execution_count": 66,
     "metadata": {},
     "output_type": "execute_result"
    }
   ],
   "source": [
    "dfp.head()"
   ]
  },
  {
   "cell_type": "code",
   "execution_count": 68,
   "metadata": {},
   "outputs": [
    {
     "data": {
      "text/html": [
       "<div>\n",
       "<style scoped>\n",
       "    .dataframe tbody tr th:only-of-type {\n",
       "        vertical-align: middle;\n",
       "    }\n",
       "\n",
       "    .dataframe tbody tr th {\n",
       "        vertical-align: top;\n",
       "    }\n",
       "\n",
       "    .dataframe thead th {\n",
       "        text-align: right;\n",
       "    }\n",
       "</style>\n",
       "<table border=\"1\" class=\"dataframe\">\n",
       "  <thead>\n",
       "    <tr style=\"text-align: right;\">\n",
       "      <th></th>\n",
       "      <th>date</th>\n",
       "      <th>Page</th>\n",
       "      <th>Pageviews</th>\n",
       "      <th>Unique Pageviews</th>\n",
       "    </tr>\n",
       "  </thead>\n",
       "  <tbody>\n",
       "    <tr>\n",
       "      <th>0</th>\n",
       "      <td>2018-08-31</td>\n",
       "      <td>/ccg/00C/?tags=lowpriority</td>\n",
       "      <td>2</td>\n",
       "      <td>1</td>\n",
       "    </tr>\n",
       "    <tr>\n",
       "      <th>1</th>\n",
       "      <td>2018-08-31</td>\n",
       "      <td>/ccg/00C/?tags=lowpriority</td>\n",
       "      <td>2</td>\n",
       "      <td>1</td>\n",
       "    </tr>\n",
       "    <tr>\n",
       "      <th>2</th>\n",
       "      <td>2018-08-31</td>\n",
       "      <td>/ccg/00C/measures/?tags=lowpriority</td>\n",
       "      <td>1</td>\n",
       "      <td>1</td>\n",
       "    </tr>\n",
       "    <tr>\n",
       "      <th>3</th>\n",
       "      <td>2018-08-31</td>\n",
       "      <td>/ccg/00C/measures/?tags=lowpriority</td>\n",
       "      <td>1</td>\n",
       "      <td>1</td>\n",
       "    </tr>\n",
       "    <tr>\n",
       "      <th>4</th>\n",
       "      <td>2018-11-04</td>\n",
       "      <td>/ccg/00C/measures/?tags=lowpriority</td>\n",
       "      <td>1</td>\n",
       "      <td>1</td>\n",
       "    </tr>\n",
       "  </tbody>\n",
       "</table>\n",
       "</div>"
      ],
      "text/plain": [
       "        date                                 Page Pageviews Unique Pageviews\n",
       "0 2018-08-31           /ccg/00C/?tags=lowpriority         2                1\n",
       "1 2018-08-31           /ccg/00C/?tags=lowpriority         2                1\n",
       "2 2018-08-31  /ccg/00C/measures/?tags=lowpriority         1                1\n",
       "3 2018-08-31  /ccg/00C/measures/?tags=lowpriority         1                1\n",
       "4 2018-11-04  /ccg/00C/measures/?tags=lowpriority         1                1"
      ]
     },
     "execution_count": 68,
     "metadata": {},
     "output_type": "execute_result"
    }
   ],
   "source": [
    "df1 = pd.concat([df1,dfp])\n",
    "df1.head()"
   ]
  },
  {
   "cell_type": "code",
   "execution_count": 69,
   "metadata": {},
   "outputs": [
    {
     "data": {
      "text/html": [
       "<div>\n",
       "<style scoped>\n",
       "    .dataframe tbody tr th:only-of-type {\n",
       "        vertical-align: middle;\n",
       "    }\n",
       "\n",
       "    .dataframe tbody tr th {\n",
       "        vertical-align: top;\n",
       "    }\n",
       "\n",
       "    .dataframe thead th {\n",
       "        text-align: right;\n",
       "    }\n",
       "</style>\n",
       "<table border=\"1\" class=\"dataframe\">\n",
       "  <thead>\n",
       "    <tr style=\"text-align: right;\">\n",
       "      <th></th>\n",
       "      <th>date</th>\n",
       "      <th>Page</th>\n",
       "      <th>Pageviews</th>\n",
       "      <th>Unique Pageviews</th>\n",
       "      <th>org_id</th>\n",
       "      <th>org_type</th>\n",
       "    </tr>\n",
       "  </thead>\n",
       "  <tbody>\n",
       "    <tr>\n",
       "      <th>0</th>\n",
       "      <td>2018-08-31</td>\n",
       "      <td>/ccg/00C/?tags=lowpriority</td>\n",
       "      <td>2</td>\n",
       "      <td>1</td>\n",
       "      <td>00C</td>\n",
       "      <td>ccg</td>\n",
       "    </tr>\n",
       "    <tr>\n",
       "      <th>1</th>\n",
       "      <td>2018-08-31</td>\n",
       "      <td>/ccg/00C/?tags=lowpriority</td>\n",
       "      <td>2</td>\n",
       "      <td>1</td>\n",
       "      <td>00C</td>\n",
       "      <td>ccg</td>\n",
       "    </tr>\n",
       "    <tr>\n",
       "      <th>2</th>\n",
       "      <td>2018-08-31</td>\n",
       "      <td>/ccg/00C/measures/?tags=lowpriority</td>\n",
       "      <td>1</td>\n",
       "      <td>1</td>\n",
       "      <td>00C</td>\n",
       "      <td>ccg</td>\n",
       "    </tr>\n",
       "    <tr>\n",
       "      <th>3</th>\n",
       "      <td>2018-08-31</td>\n",
       "      <td>/ccg/00C/measures/?tags=lowpriority</td>\n",
       "      <td>1</td>\n",
       "      <td>1</td>\n",
       "      <td>00C</td>\n",
       "      <td>ccg</td>\n",
       "    </tr>\n",
       "    <tr>\n",
       "      <th>4</th>\n",
       "      <td>2018-11-04</td>\n",
       "      <td>/ccg/00C/measures/?tags=lowpriority</td>\n",
       "      <td>1</td>\n",
       "      <td>1</td>\n",
       "      <td>00C</td>\n",
       "      <td>ccg</td>\n",
       "    </tr>\n",
       "  </tbody>\n",
       "</table>\n",
       "</div>"
      ],
      "text/plain": [
       "        date                                 Page Pageviews Unique Pageviews  \\\n",
       "0 2018-08-31           /ccg/00C/?tags=lowpriority         2                1   \n",
       "1 2018-08-31           /ccg/00C/?tags=lowpriority         2                1   \n",
       "2 2018-08-31  /ccg/00C/measures/?tags=lowpriority         1                1   \n",
       "3 2018-08-31  /ccg/00C/measures/?tags=lowpriority         1                1   \n",
       "4 2018-11-04  /ccg/00C/measures/?tags=lowpriority         1                1   \n",
       "\n",
       "  org_id org_type  \n",
       "0    00C      ccg  \n",
       "1    00C      ccg  \n",
       "2    00C      ccg  \n",
       "3    00C      ccg  \n",
       "4    00C      ccg  "
      ]
     },
     "execution_count": 69,
     "metadata": {},
     "output_type": "execute_result"
    }
   ],
   "source": [
    "# extract ccg/practice code from path\n",
    "df1[\"org_id\"] = np.where(df1.Page.str.contains(\"ccg\"),df1.Page.str.replace('/ccg/', '').str[:3],df1.Page.str.replace('/practice/', '').str[:6])\n",
    "df1[\"org_type\"] = np.where(df1.Page.str.contains(\"ccg\"),\"ccg\",'practice')\n",
    "df1.head()"
   ]
  },
  {
   "cell_type": "code",
   "execution_count": 70,
   "metadata": {},
   "outputs": [
    {
     "name": "stderr",
     "output_type": "stream",
     "text": [
      "/home/seb/.local/share/virtualenvs/lpvisitrct/local/lib/python3.6/site-packages/pandas/io/gbq.py:108: FutureWarning: verbose is deprecated and will be removed in a future version. Set logging level in order to vary verbosity\n",
      "  **kwargs)\n"
     ]
    }
   ],
   "source": [
    "GBQ_PROJECT_ID = '620265099307'\n",
    "\n",
    "# import practice-CCG mapping\n",
    "mapp = '''select distinct ccg_id, code\n",
    "from `ebmdatalab.hscic.practices`\n",
    "where setting = 4 and status_code != 'C'\n",
    "'''\n",
    "mapp = pd.read_gbq(mapp, GBQ_PROJECT_ID, dialect='standard',verbose=False)\n"
   ]
  },
  {
   "cell_type": "code",
   "execution_count": 8,
   "metadata": {},
   "outputs": [
    {
     "data": {
      "text/html": [
       "<div>\n",
       "<style scoped>\n",
       "    .dataframe tbody tr th:only-of-type {\n",
       "        vertical-align: middle;\n",
       "    }\n",
       "\n",
       "    .dataframe tbody tr th {\n",
       "        vertical-align: top;\n",
       "    }\n",
       "\n",
       "    .dataframe thead th {\n",
       "        text-align: right;\n",
       "    }\n",
       "</style>\n",
       "<table border=\"1\" class=\"dataframe\">\n",
       "  <thead>\n",
       "    <tr style=\"text-align: right;\">\n",
       "      <th></th>\n",
       "      <th>joint_id</th>\n",
       "      <th>allocation</th>\n",
       "      <th>pct_id</th>\n",
       "    </tr>\n",
       "  </thead>\n",
       "  <tbody>\n",
       "    <tr>\n",
       "      <th>0</th>\n",
       "      <td>01X</td>\n",
       "      <td>con</td>\n",
       "      <td>01X</td>\n",
       "    </tr>\n",
       "    <tr>\n",
       "      <th>1</th>\n",
       "      <td>99K</td>\n",
       "      <td>con</td>\n",
       "      <td>99K</td>\n",
       "    </tr>\n",
       "    <tr>\n",
       "      <th>2</th>\n",
       "      <td>01J</td>\n",
       "      <td>con</td>\n",
       "      <td>01J</td>\n",
       "    </tr>\n",
       "    <tr>\n",
       "      <th>3</th>\n",
       "      <td>09W</td>\n",
       "      <td>con</td>\n",
       "      <td>09W</td>\n",
       "    </tr>\n",
       "    <tr>\n",
       "      <th>4</th>\n",
       "      <td>01V</td>\n",
       "      <td>I</td>\n",
       "      <td>01T</td>\n",
       "    </tr>\n",
       "  </tbody>\n",
       "</table>\n",
       "</div>"
      ],
      "text/plain": [
       "  joint_id allocation pct_id\n",
       "0      01X        con    01X\n",
       "1      99K        con    99K\n",
       "2      01J        con    01J\n",
       "3      09W        con    09W\n",
       "4      01V          I    01T"
      ]
     },
     "execution_count": 8,
     "metadata": {},
     "output_type": "execute_result"
    }
   ],
   "source": [
    "\n",
    "### import **allocated** CCGs\n",
    "ccgs = pd.read_csv('../data/randomisation_group.csv')\n",
    "# import joint team information\n",
    "team = pd.read_csv('../data/joint_teams.csv')\n",
    "\n",
    "# create map of ccgs to joint teams\n",
    "ccgs = ccgs.merge(team,on=\"joint_team\", how=\"left\")\n",
    "#fill blank ccg_ids from joint_id column\n",
    "ccgs[\"pct_id\"] = ccgs[\"ccg_id\"].combine_first(ccgs[\"joint_id\"])\n",
    "ccgs = ccgs[[\"joint_id\",\"allocation\",\"pct_id\"]]\n",
    "ccgs.head()"
   ]
  },
  {
   "cell_type": "code",
   "execution_count": null,
   "metadata": {},
   "outputs": [],
   "source": [
    "# map practices onto CCGs\n",
    "map2 = ccgs[[\"pct_id\"]].merge(mapp, left_on=\"pct_id\", right_on =\"ccg_id\", how=\"left\")\n",
    "df2 = df1.merge(map2[[\"ccg_id\",\"code\"]], left_on=\"org_id\",right_on=\"code\", how=\"left\").drop(\"code\",axis=1)\n",
    "df2.loc[df2.org_id.str.len()==3,\"ccg_id\"] =df2.org_id\n",
    "df2.head()"
   ]
  },
  {
   "cell_type": "code",
   "execution_count": null,
   "metadata": {
    "lines_to_next_cell": 2
   },
   "outputs": [],
   "source": [
    "# map CCGs onto joint teams\n",
    "df3 = df2.reset_index()\n",
    "df3 = ccgs.merge(df3, left_on=\"pct_id\",right_on=\"ccg_id\",how=\"left\")\n",
    "df3.head()"
   ]
  },
  {
   "cell_type": "code",
   "execution_count": null,
   "metadata": {},
   "outputs": [],
   "source": [
    "GBQ_PROJECT_ID = '620265099307'\n",
    "\n",
    "# import CCG population sizes\n",
    "p = '''select pct_id, sum(total_list_size) as list_size\n",
    "from `hscic.practice_statistics` as stats\n",
    "where CAST(month AS DATE) = '2018-08-01'\n",
    "group by pct_id\n",
    "'''\n",
    "\n",
    "pop = pd.read_gbq(p, GBQ_PROJECT_ID, dialect='standard',verbose=False)\n",
    "\n",
    "# merge ccgs with population data\n",
    "p2 = ccgs.merge(pop, on=\"pct_id\",how=\"left\")\n",
    "\n",
    "# group up to joint teams\n",
    "p2 = p2.groupby(\"joint_id\").sum().reset_index()\n",
    "\n",
    "p2.head()"
   ]
  },
  {
   "cell_type": "code",
   "execution_count": null,
   "metadata": {},
   "outputs": [],
   "source": [
    "# import dates of interventions\n",
    "dates = pd.read_csv('../data/allocated_ccgs_visit_timetable.csv')\n",
    "dates[\"date\"] = pd.to_datetime(dates.date)\n",
    "#merge with ccgs/joint teams\n",
    "dts = ccgs.merge(dates, on=\"joint_id\",how=\"left\").drop(\"pct_id\",axis=1).drop_duplicates()\n",
    "\n",
    "# merge dates with list sizes\n",
    "dts = dts.merge(p2, on=\"joint_id\")\n",
    "dts[\"size_rank\"] = dts.groupby(\"allocation\").list_size.rank()\n",
    "\n",
    "#assign dummy intervention dates to control practices by pairing on total list size\n",
    "i_group = dts[[\"allocation\",\"date\",\"size_rank\"]].loc[dts.allocation==\"I\"].drop(\"allocation\",axis=1)\n",
    "\n",
    "dts = dts.merge(i_group, on= \"size_rank\", how=\"left\", suffixes=[\"\",\"_int\"]).drop(\"date\",axis=1).sort_values(by=[\"size_rank\",\"allocation\"])\n",
    "dts.head()"
   ]
  },
  {
   "cell_type": "code",
   "execution_count": null,
   "metadata": {},
   "outputs": [],
   "source": [
    "# join allocated CCGs and visit dates to page views data\n",
    "m = dts.drop(\"size_rank\",axis=1).merge(df3.drop([\"allocation\",\"pct_id\",\"ccg_id\",\"index\"],axis=1), how='left', on='joint_id')\n",
    "\n",
    "m.head(9)"
   ]
  },
  {
   "cell_type": "code",
   "execution_count": null,
   "metadata": {},
   "outputs": [],
   "source": [
    "# assign each page view occurrence to before vs after intervention (1 month ~ 28 days)\n",
    "\n",
    "m[\"datediff\"] = m.date-m.date_int\n",
    "m[\"timing\"] = \"none\"\n",
    "m.loc[(m.datediff<=\"28 days\")&(m.datediff> \"0 days\"),\"timing\"] = \"after\"\n",
    "m.loc[(m.datediff>=\"-28 days\")&(m.datediff< \"0 days\"),\"timing\"] = \"before\"\n",
    "m[\"Unique Pageviews\"] =m[\"Unique Pageviews\"].fillna(0)\n",
    "m.head()"
   ]
  },
  {
   "cell_type": "code",
   "execution_count": null,
   "metadata": {},
   "outputs": [],
   "source": [
    "# group up page views data to joint teams and sum page views before and after interventions\n",
    "\n",
    "m2 = m.loc[m.timing!=\"\"].groupby([\"allocation\",\"joint_id\",\"org_type\",\"list_size\",\"timing\"]).agg({\"Unique Pageviews\":sum,\n",
    "                                                                                      \"Page\":\"nunique\"}).unstack().fillna(0)\n",
    "m2 = m2.rename(columns={\"Page\":\"No_of_Pages\"}).reset_index()\n",
    "#flatten columns and drop superfluous columns\n",
    "m2.columns = m2.columns.map('_'.join)\n",
    "m2 = m2.drop([\"Unique Pageviews_none\",\"No_of_Pages_none\"], axis=1)\n",
    "m2.head()"
   ]
  },
  {
   "cell_type": "markdown",
   "metadata": {},
   "source": [
    "# Engagement outcome E1 #######################################################\n",
    "## Number of page views over one month on CCG pages showing low-priority measures, before vs after intervention, between intervention and control groups.\n"
   ]
  },
  {
   "cell_type": "code",
   "execution_count": null,
   "metadata": {},
   "outputs": [],
   "source": [
    "# filter CCG page views only:\n",
    "m3 = m2.loc[m2.org_type_ == \"ccg\"]\n",
    "m3.head()"
   ]
  },
  {
   "cell_type": "code",
   "execution_count": null,
   "metadata": {
    "scrolled": true
   },
   "outputs": [],
   "source": [
    "# max-out top 5% to reduce any extreme outliers\n",
    "\n",
    "mx = m3.copy()\n",
    "\n",
    "max_out = mx['Unique Pageviews_before'].quantile(0.95)\n",
    "m3[\"proxy_pageviews_before\"] = np.where(m3['Unique Pageviews_before']<max_out, m3['Unique Pageviews_before'], max_out)\n",
    "\n",
    "max_out_b = mx['Unique Pageviews_after'].quantile(0.95)\n",
    "m3[\"proxy_pageviews_after\"] = np.where(m3['Unique Pageviews_after']<max_out_b, m3['Unique Pageviews_after'], max_out_b)\n",
    "\n",
    "\n",
    "\n",
    "result = pd.DataFrame({'Unique Pageviews_after': m3[\"Unique Pageviews_after\"].describe(),\n",
    "                       'Unique Pageviews_before': m3[\"Unique Pageviews_before\"].describe(),\n",
    "                       'Proxy_pageviews_after': m3[\"proxy_pageviews_after\"].describe(),\n",
    "                       'Proxy_pageviews_before': m3[\"proxy_pageviews_before\"].describe()\n",
    "                      })\n",
    "\n",
    "result\n"
   ]
  },
  {
   "cell_type": "code",
   "execution_count": null,
   "metadata": {},
   "outputs": [],
   "source": [
    "#visualise data and proxy data\n",
    "\n",
    "import matplotlib.pyplot as plt\n",
    "\n",
    "m3[[\"proxy_pageviews_after\",\"proxy_pageviews_before\",\"Unique Pageviews_after\",\"Unique Pageviews_before\"]].hist(bins=10)\n",
    "plt.show()\n"
   ]
  },
  {
   "cell_type": "code",
   "execution_count": null,
   "metadata": {},
   "outputs": [],
   "source": [
    "m4 = m3.groupby([\"allocation_\"])['proxy_pageviews_before','proxy_pageviews_after'].mean()\n",
    "\n",
    "m4"
   ]
  },
  {
   "cell_type": "markdown",
   "metadata": {},
   "source": [
    "### Statistical analysis"
   ]
  },
  {
   "cell_type": "code",
   "execution_count": null,
   "metadata": {},
   "outputs": [],
   "source": [
    "\n",
    "import statsmodels.formula.api as smf\n",
    "data = m3.copy()\n",
    "# create a new Series called \"intervention\" to convert intervention/control to numerical values\n",
    "data['intervention'] = data.allocation_.map({'con':0, 'I':1})\n",
    "\n",
    "lm = smf.ols(formula='data[\"proxy_pageviews_after\"] ~ data[\"proxy_pageviews_before\"] +intervention', data=data).fit()\n",
    "\n",
    "#output regression coefficients and p-values:\n",
    "params = pd.DataFrame(lm.params).reset_index().rename(columns={0: 'coefficient','index': 'factor'})\n",
    "pvals = pd.DataFrame(lm.pvalues[[1,2]]).reset_index().rename(columns={0: 'p value','index': 'factor'})\n",
    "params.merge(pvals, how='left',on='factor').set_index('factor').reset_index()"
   ]
  },
  {
   "cell_type": "code",
   "execution_count": null,
   "metadata": {},
   "outputs": [],
   "source": [
    "# confidence intervals\n",
    "lm.conf_int().loc[\"intervention\"]"
   ]
  },
  {
   "cell_type": "markdown",
   "metadata": {},
   "source": [
    "# Engagement outcome E2\n",
    "## Number of page views over one month on practice pages showing low-priority measures, before vs after intervention, grouped up to CCGs, between intervention and control groups."
   ]
  },
  {
   "cell_type": "code",
   "execution_count": null,
   "metadata": {},
   "outputs": [],
   "source": [
    "# filter practice page views only:\n",
    "m5 = m2.loc[m2.org_type_ == \"practice\"]\n",
    "m5.head()"
   ]
  },
  {
   "cell_type": "code",
   "execution_count": null,
   "metadata": {
    "scrolled": true
   },
   "outputs": [],
   "source": [
    "# max-out top 5% to reduce extreme outliers\n",
    "\n",
    "mx = m5.copy()\n",
    "\n",
    "max_out = mx['Unique Pageviews_before'].quantile(0.95)\n",
    "m5[\"proxy_pageviews_before\"] = np.where(m5['Unique Pageviews_before']<max_out, m5['Unique Pageviews_before'], max_out)\n",
    "\n",
    "max_out_b = mx['Unique Pageviews_after'].quantile(0.95)\n",
    "m5[\"proxy_pageviews_after\"] = np.where(m5['Unique Pageviews_after']<max_out_b, m5['Unique Pageviews_after'], max_out_b)\n",
    "\n",
    "result = pd.DataFrame({'Unique Pageviews_after': m5[\"Unique Pageviews_after\"].describe(),\n",
    "                       'Unique Pageviews_before': m5[\"Unique Pageviews_before\"].describe(),\n",
    "                       'Proxy_pageviews_after': m5[\"proxy_pageviews_after\"].describe(),\n",
    "                       'Proxy_pageviews_before': m5[\"proxy_pageviews_before\"].describe()\n",
    "                      })\n",
    "\n",
    "result\n"
   ]
  },
  {
   "cell_type": "code",
   "execution_count": null,
   "metadata": {
    "lines_to_next_cell": 2
   },
   "outputs": [],
   "source": [
    "import matplotlib.pyplot as plt\n",
    "#%matplotlib inline\n",
    "%matplotlib notebook\n",
    "m5[[\"proxy_pageviews_after\",\"proxy_pageviews_before\",\"Unique Pageviews_after\",\"Unique Pageviews_before\"]].hist(bins=10)\n",
    "plt.show()"
   ]
  },
  {
   "cell_type": "code",
   "execution_count": null,
   "metadata": {
    "lines_to_next_cell": 2
   },
   "outputs": [],
   "source": [
    "m5.groupby([\"allocation_\"])['proxy_pageviews_before','proxy_pageviews_after'].mean()"
   ]
  },
  {
   "cell_type": "markdown",
   "metadata": {},
   "source": [
    "### Statistical analysis"
   ]
  },
  {
   "cell_type": "code",
   "execution_count": null,
   "metadata": {},
   "outputs": [],
   "source": [
    "\n",
    "import statsmodels.formula.api as smf\n",
    "data = m5\n",
    "# create a new Series called \"intervention\" to convert intervention/control to numerical values\n",
    "data['intervention'] = data.allocation_.map({'con':0, 'I':1})\n",
    "\n",
    "lm = smf.ols(formula='data[\"proxy_pageviews_after\"] ~ data[\"proxy_pageviews_before\"] +intervention', data=data).fit()\n",
    "\n",
    "#output regression coefficients and p-values:\n",
    "params = pd.DataFrame(lm.params).reset_index().rename(columns={0: 'coefficient','index': 'factor'})\n",
    "pvals = pd.DataFrame(lm.pvalues[[1,2]]).reset_index().rename(columns={0: 'p value','index': 'factor'})\n",
    "params.merge(pvals, how='left',on='factor').set_index('factor')"
   ]
  },
  {
   "cell_type": "code",
   "execution_count": null,
   "metadata": {},
   "outputs": [],
   "source": [
    "#confidence intervals\n",
    "lm.conf_int().loc[\"intervention\"]"
   ]
  },
  {
   "cell_type": "markdown",
   "metadata": {},
   "source": [
    "# Engagement outcomes E3 and E4 : Alert sign-ups\n",
    "## E3 Number of registrations to OpenPrescribing CCG email alerts\n",
    "## E4 Number of registrations to OpenPrescribing Practice email alerts grouped up to CCG\n",
    "(New sign-ups within 3 months of intervention. The CCG registered population and number of sign-ups prior to the intervention will be co-variables.)"
   ]
  },
  {
   "cell_type": "code",
   "execution_count": null,
   "metadata": {},
   "outputs": [],
   "source": [
    "#import data from django administration, filtered for confirmed sign-ups only (no date filter)\n",
    "\n",
    "alerts = pd.read_csv('../data/OrgBookmark-2018-11-02.csv')\n",
    "alerts[\"created_at\"] = pd.to_datetime(alerts.created_at)\n",
    "alerts.head()"
   ]
  },
  {
   "cell_type": "code",
   "execution_count": null,
   "metadata": {},
   "outputs": [],
   "source": [
    "# map practices to joint teams (only included randomised CCGs)\n",
    "a2 = alerts.merge(map2[[\"ccg_id\",\"code\"]], left_on=\"practice\",right_on=\"code\", how=\"left\").drop(\"code\",axis=1)\n",
    "a2.ccg_id = a2.ccg_id.combine_first(a2.pct)\n",
    "a2.head()"
   ]
  },
  {
   "cell_type": "code",
   "execution_count": null,
   "metadata": {
    "lines_to_next_cell": 2
   },
   "outputs": [],
   "source": [
    "# merge ccgs with data\n",
    "a3 = a2.copy()\n",
    "a3 = ccgs.merge(a3, left_on=\"pct_id\",right_on=\"ccg_id\",how=\"left\")\n",
    "a3.head()"
   ]
  },
  {
   "cell_type": "code",
   "execution_count": null,
   "metadata": {},
   "outputs": [],
   "source": [
    "# join to visit dates\n",
    "a4 = dts.drop([\"size_rank\",\"allocation\"],axis=1).merge(a3.drop([\"approved\"],axis=1), how='left', on='joint_id')\n",
    "a4.head()"
   ]
  },
  {
   "cell_type": "code",
   "execution_count": null,
   "metadata": {},
   "outputs": [],
   "source": [
    "# assign each page view occurrence to before vs after intervention (1 month ~ 28 days)\n",
    "a5 = a4.copy()\n",
    "a5[\"datediff\"] = a5.created_at-a5.date_int\n",
    "a5[\"timing\"] = \"none\"\n",
    "# all alerts set up prior to day of intervention will be used as a co-variable:\n",
    "a5.loc[(a5.datediff< \"0 days\"),\"timing\"] = \"before\"\n",
    "# main outcome: alerts set up within 3 months of intervention:\n",
    "a5.loc[(a5.datediff>= \"0 days\")& (a5.datediff<= \"54 days\"),\"timing\"] = \"after\"  #(within 3 months)\n",
    "\n",
    "# flag whether each alert is a practice or CCG alert\n",
    "conditions = [\n",
    "    (a5.pct.str.len()==3),\n",
    "    (a5.practice.str.len()==6)]\n",
    "\n",
    "choices = ['ccg', 'practice']\n",
    "a5['org_type'] = np.select(conditions, choices, default='none')\n",
    "a5.head()"
   ]
  },
  {
   "cell_type": "code",
   "execution_count": null,
   "metadata": {},
   "outputs": [],
   "source": [
    "# aggregate data: sum alerts before and after intervention for each joint team\n",
    "\n",
    "a6 = a5.groupby([\"allocation\",\"joint_id\",\"list_size\",\"timing\",\"org_type\"]).agg({\"user\":\"nunique\"}).unstack().fillna(0)\n",
    "a6 = a6.rename(columns={\"user\":\"alerts\"}).unstack().reset_index().fillna(0)\n",
    "#flatten columns:\n",
    "a6.columns = a6.columns.map('_'.join)\n",
    "\n",
    "a6[\"list_size_100k\"] = a6[\"list_size__\"]/100000\n",
    "a6 = a6[[\"allocation__\",\"joint_id__\",\"list_size_100k\",\"alerts_ccg_after\",\"alerts_ccg_before\",\"alerts_practice_after\",\"alerts_practice_before\"]]\n",
    "a6 = a6.rename(columns={\"allocation__\":\"allocation\",\"joint_id__\":\"joint_id\"})\n",
    "\n",
    "a6.head()"
   ]
  },
  {
   "cell_type": "code",
   "execution_count": null,
   "metadata": {},
   "outputs": [],
   "source": [
    "# summary data\n",
    "a6.groupby(\"allocation\").mean()"
   ]
  },
  {
   "cell_type": "markdown",
   "metadata": {},
   "source": [
    "### E3: CCG alert sign-ups"
   ]
  },
  {
   "cell_type": "code",
   "execution_count": null,
   "metadata": {},
   "outputs": [],
   "source": [
    "import statsmodels.formula.api as smf\n",
    "data = a6.copy()\n",
    "\n",
    "# create a new Series called \"intervention\" to convert intervention/control to numerical values\n",
    "data['intervention'] = data.allocation.map({'con':0, 'I':1})\n",
    "\n",
    "lm = smf.ols(formula='data[\"alerts_ccg_after\"] ~ data[\"alerts_ccg_before\"]+ data[\"list_size_100k\"] +intervention', data=data).fit()\n",
    "\n",
    "#output regression coefficients and p-values:\n",
    "params = pd.DataFrame(lm.params).reset_index().rename(columns={0: 'coefficient','index': 'factor'})\n",
    "pvals = pd.DataFrame(lm.pvalues[[1,2]]).reset_index().rename(columns={0: 'p value','index': 'factor'})\n",
    "params.merge(pvals, how='left',on='factor').set_index('factor')"
   ]
  },
  {
   "cell_type": "code",
   "execution_count": null,
   "metadata": {},
   "outputs": [],
   "source": [
    "# confidence intervals\n",
    "lm.conf_int().loc[\"intervention\"]"
   ]
  },
  {
   "cell_type": "markdown",
   "metadata": {},
   "source": [
    "### E4: practice alert sign-ups"
   ]
  },
  {
   "cell_type": "code",
   "execution_count": null,
   "metadata": {},
   "outputs": [],
   "source": [
    "import statsmodels.formula.api as smf\n",
    "data = a6.copy()\n",
    "\n",
    "# create a new Series called \"intervention\" to convert intervention/control to numerical values\n",
    "data['intervention'] = data.allocation.map({'con':0, 'I':1})\n",
    "\n",
    "lm = smf.ols(formula='data[\"alerts_practice_after\"] ~ data[\"alerts_practice_before\"] + data[\"list_size_100k\"] + intervention', data=data).fit()\n",
    "\n",
    "#output regression coefficients and p-values:\n",
    "params = pd.DataFrame(lm.params).reset_index().rename(columns={0: 'coefficient','index': 'factor'})\n",
    "pvals = pd.DataFrame(lm.pvalues[[1,2]]).reset_index().rename(columns={0: 'p value','index': 'factor'})\n",
    "params.merge(pvals, how='left',on='factor').set_index('factor')"
   ]
  },
  {
   "cell_type": "code",
   "execution_count": null,
   "metadata": {},
   "outputs": [],
   "source": [
    "# confidence intervals\n",
    "lm.conf_int().loc[\"intervention\"]"
   ]
  }
 ],
 "metadata": {
  "jupytext": {
   "text_representation": {
    "extension": ".py",
    "format_name": "light",
    "format_version": "1.3",
    "jupytext_version": "0.8.4"
   }
  },
  "kernelspec": {
   "display_name": "Python (lpccg)",
   "language": "python",
   "name": "lpvisitrct"
  },
  "language_info": {
   "codemirror_mode": {
    "name": "ipython",
    "version": 3
   },
   "file_extension": ".py",
   "mimetype": "text/x-python",
   "name": "python",
   "nbconvert_exporter": "python",
   "pygments_lexer": "ipython3",
   "version": "3.6.5"
  }
 },
 "nbformat": 4,
 "nbformat_minor": 2
}
